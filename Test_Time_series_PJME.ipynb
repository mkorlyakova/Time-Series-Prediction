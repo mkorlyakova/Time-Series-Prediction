{
  "nbformat": 4,
  "nbformat_minor": 0,
  "metadata": {
    "colab": {
      "name": "Test Time_series_PJME.ipynb",
      "provenance": [],
      "toc_visible": true,
      "include_colab_link": true
    },
    "kernelspec": {
      "display_name": "Python 3",
      "language": "python",
      "name": "python3"
    },
    "language_info": {
      "codemirror_mode": {
        "name": "ipython",
        "version": 3
      },
      "file_extension": ".py",
      "mimetype": "text/x-python",
      "name": "python",
      "nbconvert_exporter": "python",
      "pygments_lexer": "ipython3",
      "version": "3.7.1"
    },
    "accelerator": "GPU"
  },
  "cells": [
    {
      "cell_type": "markdown",
      "metadata": {
        "id": "view-in-github",
        "colab_type": "text"
      },
      "source": [
        "<a href=\"https://colab.research.google.com/github/mkorlyakova/Time-Series-Prediction/blob/master/Test_Time_series_PJME.ipynb\" target=\"_parent\"><img src=\"https://colab.research.google.com/assets/colab-badge.svg\" alt=\"Open In Colab\"/></a>"
      ]
    },
    {
      "cell_type": "markdown",
      "metadata": {
        "id": "aUnPEz0yY0ce",
        "colab_type": "text"
      },
      "source": [
        "Install modul\n"
      ]
    },
    {
      "cell_type": "code",
      "metadata": {
        "id": "oHJUAkKLa9Qc",
        "colab_type": "code",
        "colab": {
          "base_uri": "https://localhost:8080/",
          "height": 156
        },
        "outputId": "81dc8463-6db1-4a70-e509-572773f59fbb"
      },
      "source": [
        "!pip install holidays"
      ],
      "execution_count": 44,
      "outputs": [
        {
          "output_type": "stream",
          "text": [
            "Requirement already satisfied: holidays in /usr/local/lib/python3.6/dist-packages (0.10.3)\n",
            "Requirement already satisfied: korean-lunar-calendar in /usr/local/lib/python3.6/dist-packages (from holidays) (0.2.1)\n",
            "Requirement already satisfied: convertdate in /usr/local/lib/python3.6/dist-packages (from holidays) (2.2.2)\n",
            "Requirement already satisfied: python-dateutil in /usr/local/lib/python3.6/dist-packages (from holidays) (2.8.1)\n",
            "Requirement already satisfied: six in /usr/local/lib/python3.6/dist-packages (from holidays) (1.15.0)\n",
            "Requirement already satisfied: pytz>=2014.10 in /usr/local/lib/python3.6/dist-packages (from convertdate->holidays) (2018.9)\n",
            "Requirement already satisfied: pymeeus<=1,>=0.3.6 in /usr/local/lib/python3.6/dist-packages (from convertdate->holidays) (0.3.7)\n"
          ],
          "name": "stdout"
        }
      ]
    },
    {
      "cell_type": "markdown",
      "metadata": {
        "id": "m95ZYZCDMOpm",
        "colab_type": "text"
      },
      "source": [
        "Import all progect modules"
      ]
    },
    {
      "cell_type": "code",
      "metadata": {
        "colab_type": "code",
        "id": "45jBztD3hauE",
        "colab": {}
      },
      "source": [
        "%matplotlib inline\n",
        "import matplotlib.pyplot as plt\n",
        "\n",
        "import numpy as np\n",
        "import pandas as pd \n",
        "import seaborn as sns\n",
        "\n",
        "\n",
        "from sklearn.metrics import mean_squared_error\n",
        "import os\n",
        "\n",
        "from sklearn.metrics import mean_squared_error\n",
        "\n",
        "import warnings\n",
        "warnings.filterwarnings(\"ignore\")\n",
        "\n"
      ],
      "execution_count": 45,
      "outputs": []
    },
    {
      "cell_type": "code",
      "metadata": {
        "id": "c3MAiSYsMwwi",
        "colab_type": "code",
        "colab": {}
      },
      "source": [
        "import os\n",
        "#os.system(\"pip install holidays\")\n",
        "import holidays"
      ],
      "execution_count": 46,
      "outputs": []
    },
    {
      "cell_type": "code",
      "metadata": {
        "id": "ay80xfcIX3oz",
        "colab_type": "code",
        "colab": {}
      },
      "source": [
        "from pandas.tseries.holiday import USFederalHolidayCalendar as calendar\n",
        "from datetime import timedelta\n",
        "one_hours = timedelta(hours=1)\n",
        "one_day = timedelta(days=1)"
      ],
      "execution_count": 47,
      "outputs": []
    },
    {
      "cell_type": "code",
      "metadata": {
        "id": "BKaDZZh9gNMG",
        "colab_type": "code",
        "colab": {}
      },
      "source": [
        "from sklearn.linear_model import LinearRegression"
      ],
      "execution_count": 48,
      "outputs": []
    },
    {
      "cell_type": "code",
      "metadata": {
        "id": "6vcsDZOv0NFd",
        "colab_type": "code",
        "colab": {}
      },
      "source": [
        "from sklearn.ensemble import GradientBoostingRegressor\n",
        "from sklearn.preprocessing import StandardScaler\n",
        "\n",
        "from sklearn.metrics import mean_absolute_error, mean_squared_error, median_absolute_error, r2_score\n",
        "\n"
      ],
      "execution_count": 49,
      "outputs": []
    },
    {
      "cell_type": "code",
      "metadata": {
        "id": "ZeMn_flVjD4d",
        "colab_type": "code",
        "colab": {}
      },
      "source": [
        "from tensorflow.keras import utils\n",
        "import numpy as np\n",
        "import tensorflow.keras as keras\n",
        "from tensorflow.keras.optimizers import Adam\n",
        "from tensorflow.keras.models import Sequential, Model\n",
        "from tensorflow.keras.layers import concatenate, Input, Dense, Dropout, BatchNormalization, Flatten, Conv1D, Conv2D, LSTM\n",
        "\n",
        "\n",
        "from tensorflow.keras.callbacks import EarlyStopping"
      ],
      "execution_count": 50,
      "outputs": []
    },
    {
      "cell_type": "code",
      "metadata": {
        "id": "doQ2VL-kNHrv",
        "colab_type": "code",
        "colab": {}
      },
      "source": [
        "\n",
        "import pickle"
      ],
      "execution_count": 51,
      "outputs": []
    },
    {
      "cell_type": "markdown",
      "metadata": {
        "id": "btuMbGZ2ZXWB",
        "colab_type": "text"
      },
      "source": [
        "1. Читаем  данные"
      ]
    },
    {
      "cell_type": "code",
      "metadata": {
        "id": "p9EPGBnFKIIA",
        "colab_type": "code",
        "colab": {
          "base_uri": "https://localhost:8080/",
          "height": 51
        },
        "outputId": "4479eee7-32fd-42dd-d52c-b94c68286353"
      },
      "source": [
        "!git clone -l -s https://github.com/mkorlyakova/Time-Series-Prediction.git cloned-repo\n",
        "\n",
        "!ls"
      ],
      "execution_count": 52,
      "outputs": [
        {
          "output_type": "stream",
          "text": [
            "fatal: destination path 'cloned-repo' already exists and is not an empty directory.\n",
            "cloned-repo  sample_data\n"
          ],
          "name": "stdout"
        }
      ]
    },
    {
      "cell_type": "markdown",
      "metadata": {
        "id": "b6uSTaleZgHw",
        "colab_type": "text"
      },
      "source": [
        "Читаем данные в память - причесываем немного и берем для работы 1-й столбец (остальные можно было бы убрать)"
      ]
    },
    {
      "cell_type": "code",
      "metadata": {
        "id": "O8ys8awqoAXx",
        "colab_type": "code",
        "colab": {
          "base_uri": "https://localhost:8080/",
          "height": 235
        },
        "outputId": "e67979d0-7ce0-4b2b-e79d-6440be13b4de"
      },
      "source": [
        "Path = '/content/cloned-repo/'\n",
        "Path_Energy = '/content/cloned-repo/PJME_hourly.csv'\n",
        "data = pd.read_csv(Path_Energy, index_col=[0], parse_dates=[0])\n",
        "\n",
        "\n",
        "data.sort_index(inplace=True)\n",
        "#data.drop('Time',axis=1, inplace =True)\n",
        "data.head()"
      ],
      "execution_count": 53,
      "outputs": [
        {
          "output_type": "execute_result",
          "data": {
            "text/html": [
              "<div>\n",
              "<style scoped>\n",
              "    .dataframe tbody tr th:only-of-type {\n",
              "        vertical-align: middle;\n",
              "    }\n",
              "\n",
              "    .dataframe tbody tr th {\n",
              "        vertical-align: top;\n",
              "    }\n",
              "\n",
              "    .dataframe thead th {\n",
              "        text-align: right;\n",
              "    }\n",
              "</style>\n",
              "<table border=\"1\" class=\"dataframe\">\n",
              "  <thead>\n",
              "    <tr style=\"text-align: right;\">\n",
              "      <th></th>\n",
              "      <th>PJME_MW</th>\n",
              "    </tr>\n",
              "    <tr>\n",
              "      <th>Datetime</th>\n",
              "      <th></th>\n",
              "    </tr>\n",
              "  </thead>\n",
              "  <tbody>\n",
              "    <tr>\n",
              "      <th>2002-01-01 01:00:00</th>\n",
              "      <td>30393.0</td>\n",
              "    </tr>\n",
              "    <tr>\n",
              "      <th>2002-01-01 02:00:00</th>\n",
              "      <td>29265.0</td>\n",
              "    </tr>\n",
              "    <tr>\n",
              "      <th>2002-01-01 03:00:00</th>\n",
              "      <td>28357.0</td>\n",
              "    </tr>\n",
              "    <tr>\n",
              "      <th>2002-01-01 04:00:00</th>\n",
              "      <td>27899.0</td>\n",
              "    </tr>\n",
              "    <tr>\n",
              "      <th>2002-01-01 05:00:00</th>\n",
              "      <td>28057.0</td>\n",
              "    </tr>\n",
              "  </tbody>\n",
              "</table>\n",
              "</div>"
            ],
            "text/plain": [
              "                     PJME_MW\n",
              "Datetime                    \n",
              "2002-01-01 01:00:00  30393.0\n",
              "2002-01-01 02:00:00  29265.0\n",
              "2002-01-01 03:00:00  28357.0\n",
              "2002-01-01 04:00:00  27899.0\n",
              "2002-01-01 05:00:00  28057.0"
            ]
          },
          "metadata": {
            "tags": []
          },
          "execution_count": 53
        }
      ]
    },
    {
      "cell_type": "markdown",
      "metadata": {
        "id": "HY7x7ynr6a2l",
        "colab_type": "text"
      },
      "source": [
        "# Функции для эксплуатации модели"
      ]
    },
    {
      "cell_type": "code",
      "metadata": {
        "id": "sImwJuUiMy4M",
        "colab_type": "code",
        "colab": {}
      },
      "source": [
        "\n",
        "#добавляем историю длиной р\n",
        "\n",
        "p =24*7 # будем смотреть на 7 дней назад\n",
        "h = 24 #предскажем на 24 часа вперед"
      ],
      "execution_count": 54,
      "outputs": []
    },
    {
      "cell_type": "code",
      "metadata": {
        "id": "jB6dELKYMaJ1",
        "colab_type": "code",
        "colab": {}
      },
      "source": [
        "\n",
        "def neuro_net(inputs_shape=[1,1,1], lstmlist=[8],convlist=[32,32],denselist=[3]):\n",
        "  model = Sequential()\n",
        "  model.add(LSTM(lstmlist[0], input_shape = (inputs_shape[1], inputs_shape[2]), return_sequences=\"True\"))\n",
        "  if len(lstmlist)==2 :\n",
        "    model.add(LSTM(lstmlist[1], return_sequences=\"True\"))\n",
        "  for conv in convlist:\n",
        "    model.add(Conv1D(conv, 3, activation=\"linear\"))\n",
        "  \n",
        "  model.add(Flatten())\n",
        "  for dens_i in denselist:\n",
        "    model.add(Dense(dens_i, activation=\"linear\"))\n",
        "  model.add(Dense(1, activation=\"linear\"))\n",
        "  model.compile(loss=\"mse\", optimizer=\"adam\", metrics=['mae'])\n",
        "  return model\n",
        "\n",
        "callback = EarlyStopping(monitor='val_mae', patience=3)"
      ],
      "execution_count": 55,
      "outputs": []
    },
    {
      "cell_type": "markdown",
      "metadata": {
        "id": "7kYkk8zy69RS",
        "colab_type": "text"
      },
      "source": [
        "Используем модель:\n",
        "- строю функцию для обработки признаков для любого куска исходного ряда\n",
        "- проверяю модель"
      ]
    },
    {
      "cell_type": "code",
      "metadata": {
        "id": "KDKI7d0Q3BUO",
        "colab_type": "code",
        "colab": {}
      },
      "source": [
        "def feature_make(data,path):\n",
        "  # clear data\n",
        "  data['date']=data.index\n",
        "  data_time_h = pd.date_range(data.index[0],data.index[-1],freq='H')\n",
        "\n",
        "  time_lost = np.where(np.isin(data_time_h.values, data['date'].values)==False)\n",
        "  # calculate lost value of consumption\n",
        "  v = np.round((data.loc[data_time_h[time_lost]-one_hours]['PJME_MW'].values+data.loc[data_time_h[time_lost]+one_hours]['PJME_MW'].values)/2).reshape(-1,1)\n",
        "  df_data = pd.DataFrame(data = v, index=data_time_h[time_lost],columns=['PJME_MW'])\n",
        "  df_data['date']=data_time_h[time_lost]\n",
        "\n",
        "  # conect data and df_data\n",
        "  data=pd.concat([data,df_data],join = 'inner')\n",
        "  data.sort_index(inplace=True)\n",
        "  data.drop_duplicates(inplace=True)\n",
        "\n",
        "  #New features\n",
        "\n",
        "  data['year'] = data['date'].dt.year\n",
        "  data['month'] = data['date'].dt.month\n",
        "  data['dayofmonth'] = data['date'].dt.day\n",
        "  data['quarter'] = data['date'].dt.quarter\n",
        "  data['dayofyear'] = data['date'].dt.dayofyear\n",
        "  data['weekofyear'] = data['date'].dt.weekofyear\n",
        "  data['dayofweek'] = data['date'].dt.dayofweek\n",
        "  data['hour'] = data['date'].dt.hour\n",
        "  data.drop( columns = 'date', inplace = True )\n",
        "\n",
        "\n",
        "  W0,W1 = 32078.642851247627, -0.009399857149792397\n",
        "\n",
        "  y= data['PJME_MW'].values\n",
        "  all_data_time_h = pd.date_range('2002-01-01 01:00:00',data.index[-1],freq='H')\n",
        "  ind = np.where(all_data_time_h == data.index[0] )[0]\n",
        "  #print(ind[0],all_data_time_h.shape[0])\n",
        "  x1 = np.array(range(ind[0],all_data_time_h.shape[0]+100))\n",
        "  y1=W0-W1*x1\n",
        "  data['PJME_MW no trend'] = y - y1[:y.shape[0]]\n",
        "\n",
        "\n",
        "  data['d_mov'] = data['PJME_MW'].rolling(window=24).mean()\n",
        "  data['w_mov'] = data['PJME_MW'].rolling(window=24*7).mean()\n",
        "  data['y_mov'] = data['PJME_MW'].rolling(window=24*365).mean()\n",
        "\n",
        "  data['diff1']=data['PJME_MW'].diff(1)\n",
        "\n",
        "  data.dropna(inplace=True)\n",
        "  # model parametr\n",
        "  p=24*7\n",
        "  h=24\n",
        "  #print(data.iloc[-h:,:])\n",
        "\n",
        "  X_Y = data.values\n",
        "  #print(X_Y.shape)\n",
        "  filename = path+'final_scaler.sav'\n",
        "  scl=pickle.load(open(filename, 'rb'))\n",
        "\n",
        "  X_Y_test = scl.transform(X_Y)\n",
        "\n",
        "  X_test = X_Y_test[:-h,:]\n",
        "  Y_test = X_Y_test[h+p:,0]\n",
        "\n",
        "\n",
        "  batch_size=32\n",
        "\n",
        "  dataset_val = keras.preprocessing.timeseries_dataset_from_array(\n",
        "    X_test[p:,:],\n",
        "    Y_test,\n",
        "    sequence_length=p,\n",
        "    sampling_rate=5,\n",
        "    batch_size=batch_size)\n",
        "\n",
        "  return dataset_val, scl\n"
      ],
      "execution_count": 56,
      "outputs": []
    },
    {
      "cell_type": "code",
      "metadata": {
        "id": "Z1NbqvyFBItd",
        "colab_type": "code",
        "colab": {}
      },
      "source": [
        "def model_work(data,  path):\n",
        "  i_s=[32,168,14]\n",
        "  model_final = neuro_net(inputs_shape=[i_s[0],i_s[1],i_s[2]],lstmlist=[8],convlist=[],denselist=[5])\n",
        "  model_final.load_weights(path+'model_weight.h5')\n",
        "  X, scl=feature_make(data,path)\n",
        "\n",
        "  Y = model_final.predict(X)\n",
        "  #print(scl.scale_[0],scl.mean_[0],Y)\n",
        "  return Y*scl.scale_[0]+scl.mean_[0]\n"
      ],
      "execution_count": 57,
      "outputs": []
    },
    {
      "cell_type": "markdown",
      "metadata": {
        "id": "mQUar_3tCKvN",
        "colab_type": "text"
      },
      "source": [
        "# Проверка функций\n",
        "\n",
        "читаем заново данные из набора PJWE_MW"
      ]
    },
    {
      "cell_type": "code",
      "metadata": {
        "id": "yy-s9VDp_D06",
        "colab_type": "code",
        "colab": {
          "base_uri": "https://localhost:8080/",
          "height": 235
        },
        "outputId": "b16b6772-486e-4cb8-9973-88e9f6c7f476"
      },
      "source": [
        "data_test = pd.read_csv(Path_Energy, index_col=[0], parse_dates=[0])\n",
        "\n",
        "\n",
        "data_test.sort_index(inplace=True)\n",
        "#data.drop('Time',axis=1, inplace =True)\n",
        "data_test.head()"
      ],
      "execution_count": 58,
      "outputs": [
        {
          "output_type": "execute_result",
          "data": {
            "text/html": [
              "<div>\n",
              "<style scoped>\n",
              "    .dataframe tbody tr th:only-of-type {\n",
              "        vertical-align: middle;\n",
              "    }\n",
              "\n",
              "    .dataframe tbody tr th {\n",
              "        vertical-align: top;\n",
              "    }\n",
              "\n",
              "    .dataframe thead th {\n",
              "        text-align: right;\n",
              "    }\n",
              "</style>\n",
              "<table border=\"1\" class=\"dataframe\">\n",
              "  <thead>\n",
              "    <tr style=\"text-align: right;\">\n",
              "      <th></th>\n",
              "      <th>PJME_MW</th>\n",
              "    </tr>\n",
              "    <tr>\n",
              "      <th>Datetime</th>\n",
              "      <th></th>\n",
              "    </tr>\n",
              "  </thead>\n",
              "  <tbody>\n",
              "    <tr>\n",
              "      <th>2002-01-01 01:00:00</th>\n",
              "      <td>30393.0</td>\n",
              "    </tr>\n",
              "    <tr>\n",
              "      <th>2002-01-01 02:00:00</th>\n",
              "      <td>29265.0</td>\n",
              "    </tr>\n",
              "    <tr>\n",
              "      <th>2002-01-01 03:00:00</th>\n",
              "      <td>28357.0</td>\n",
              "    </tr>\n",
              "    <tr>\n",
              "      <th>2002-01-01 04:00:00</th>\n",
              "      <td>27899.0</td>\n",
              "    </tr>\n",
              "    <tr>\n",
              "      <th>2002-01-01 05:00:00</th>\n",
              "      <td>28057.0</td>\n",
              "    </tr>\n",
              "  </tbody>\n",
              "</table>\n",
              "</div>"
            ],
            "text/plain": [
              "                     PJME_MW\n",
              "Datetime                    \n",
              "2002-01-01 01:00:00  30393.0\n",
              "2002-01-01 02:00:00  29265.0\n",
              "2002-01-01 03:00:00  28357.0\n",
              "2002-01-01 04:00:00  27899.0\n",
              "2002-01-01 05:00:00  28057.0"
            ]
          },
          "metadata": {
            "tags": []
          },
          "execution_count": 58
        }
      ]
    },
    {
      "cell_type": "markdown",
      "metadata": {
        "id": "ibEs9RsvCaxG",
        "colab_type": "text"
      },
      "source": [
        "Для теста берем конец данных (оцениваем , то на чем не учили)"
      ]
    },
    {
      "cell_type": "code",
      "metadata": {
        "id": "QxQtPMWqCWIv",
        "colab_type": "code",
        "colab": {}
      },
      "source": [
        "t=5\n",
        "T = 20000\n",
        "\n",
        "y_work=model_work(data_test.iloc[-T-t:-t], Path)"
      ],
      "execution_count": 59,
      "outputs": []
    },
    {
      "cell_type": "markdown",
      "metadata": {
        "id": "proi0CJdCsnW",
        "colab_type": "text"
      },
      "source": [
        "Формируем истиные данные (кусок из значений)"
      ]
    },
    {
      "cell_type": "code",
      "metadata": {
        "id": "SJcP7PCbCqmq",
        "colab_type": "code",
        "colab": {}
      },
      "source": [
        "y_test = data_test.iloc[-T-t-h-1:-T-t-1+h*8,0].values"
      ],
      "execution_count": 60,
      "outputs": []
    },
    {
      "cell_type": "markdown",
      "metadata": {
        "id": "lkxY_wKmC1tw",
        "colab_type": "text"
      },
      "source": [
        "Отображаем"
      ]
    },
    {
      "cell_type": "code",
      "metadata": {
        "id": "1LeXglWmGc-0",
        "colab_type": "code",
        "colab": {
          "base_uri": "https://localhost:8080/",
          "height": 295
        },
        "outputId": "b522a8bd-1524-4f01-9ac3-16ee84339646"
      },
      "source": [
        "plt.plot(y_test[:150],label='true')\n",
        "plt.plot(y_work[:150],label='predict')\n",
        "plt.legend()\n",
        "plt.title('Test')\n",
        "plt.ylabel('PJME_MW')\n",
        "plt.xlabel('t')\n",
        "plt.show()"
      ],
      "execution_count": 61,
      "outputs": [
        {
          "output_type": "display_data",
          "data": {
            "image/png": "[encoded data removed]",
            "text/plain": [
              "<Figure size 432x288 with 1 Axes>"
            ]
          },
          "metadata": {
            "tags": [],
            "needs_background": "light"
          }
        }
      ]
    },
    {
      "cell_type": "markdown",
      "metadata": {
        "id": "E3V1C_dSD7py",
        "colab_type": "text"
      },
      "source": [
        "Оценка MAPE:"
      ]
    },
    {
      "cell_type": "code",
      "metadata": {
        "id": "DTnA4gLdJEGC",
        "colab_type": "code",
        "colab": {
          "base_uri": "https://localhost:8080/",
          "height": 34
        },
        "outputId": "f5764d9d-fb80-4ac0-8e2c-539c1a5ca7b8"
      },
      "source": [
        "MAPE_y= np.mean(np.abs(y_test[:y_work.shape[0]].reshape(-1,1)-y_work[:,0])/y_work[:,0])*100\n",
        "print('Ошибка МАРЕ:'+str(MAPE_y)+'%')\n"
      ],
      "execution_count": 62,
      "outputs": [
        {
          "output_type": "stream",
          "text": [
            "Ошибка МАРЕ:19.880110831602053%\n"
          ],
          "name": "stdout"
        }
      ]
    }
  ]
}